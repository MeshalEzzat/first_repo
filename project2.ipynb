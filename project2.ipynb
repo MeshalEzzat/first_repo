{
 "cells": [
  {
   "cell_type": "code",
   "execution_count": null,
   "metadata": {},
   "outputs": [],
   "source": [
    "#step1: welcome message and the user input \n",
    "#step2: compare the computer and the user input and determine whose win\n",
    "#step3: ask if user want to play again or not yes or no "
   ]
  },
  {
   "cell_type": "code",
   "execution_count": null,
   "metadata": {},
   "outputs": [
    {
     "name": "stdout",
     "output_type": "stream",
     "text": [
      "Welcome to Scissor, Paper, Rock!\n",
      "Please enter one word from scissor, rock, paper: car\n",
      "(PC choice: scissor)\n",
      "Invalid choice. Please enter one word from scissor, rock, paper: rock\n",
      "Rock vs Scissor -> Rock wins!\n"
     ]
    }
   ],
   "source": [
    "import random\n",
    "\n",
    "game_words = ['scissor', 'rock', 'paper']  # List of game_words\n",
    "\n",
    "while True:\n",
    "    print(\"Welcome to Scissor, Paper, Rock!\")\n",
    "    pc_gussed_word = random.choice(game_words)\n",
    "    \n",
    "    gussed_word = input(f\"Please enter one word from {', '.join(game_words)}: \")\n",
    "    \n",
    "    print(f\"(PC choice: {pc_gussed_word})\")  # Debugging info for testing\n",
    "    # Validate user input\n",
    "    while gussed_word.lower() not in game_words:\n",
    "        gussed_word = input(f\"Invalid choice. Please enter one word from {', '.join(game_words)}: \")\n",
    "\n",
    "    gussed_word = gussed_word.lower()  # Ensure consistent lowercase for comparisons\n",
    "    \n",
    "    # Handle a tie\n",
    "    if pc_gussed_word == gussed_word:\n",
    "        print(\"You chose the same word as the PC. Play again!\")\n",
    "        continue\n",
    "\n",
    "    # Determine the winner\n",
    "    if pc_gussed_word == 'scissor' and gussed_word == 'paper':\n",
    "        print(\"Paper vs Scissor -> Scissor wins!\")\n",
    "    elif pc_gussed_word == 'paper' and gussed_word == 'scissor':\n",
    "        print(\"Paper vs Scissor -> Scissor wins!\")\n",
    "\n",
    "    elif pc_gussed_word == 'scissor' and gussed_word == 'rock':\n",
    "        print(\"Rock vs Scissor -> Rock wins!\")\n",
    "    elif pc_gussed_word == 'rock' and gussed_word == 'scissor':\n",
    "        print(\"Rock vs Scissor -> Rock wins!\")\n",
    "\n",
    "    elif pc_gussed_word == 'rock' and gussed_word == 'paper':\n",
    "        print(\"Rock vs Paper -> Paper wins!\")\n",
    "    elif pc_gussed_word == 'paper' and gussed_word == 'rock':\n",
    "        print(\"Rock vs Paper -> Paper wins!\")\n",
    "\n",
    "    # Ask if the user wants to play again\n",
    "    answer = input(\"Do you want to play again? (yes/no): \")\n",
    "    while answer.lower() not in ['yes', 'no']:\n",
    "        answer = input(\"Please enter 'yes' or 'no': \")\n",
    "    if answer.lower() == 'no':\n",
    "        print(\"Game over. Bye!\")\n",
    "        break\n"
   ]
  },
  {
   "cell_type": "code",
   "execution_count": null,
   "metadata": {},
   "outputs": [],
   "source": []
  },
  {
   "cell_type": "code",
   "execution_count": null,
   "metadata": {},
   "outputs": [],
   "source": []
  }
 ],
 "metadata": {
  "kernelspec": {
   "display_name": "Python 3",
   "language": "python",
   "name": "python3"
  },
  "language_info": {
   "codemirror_mode": {
    "name": "ipython",
    "version": 3
   },
   "file_extension": ".py",
   "mimetype": "text/x-python",
   "name": "python",
   "nbconvert_exporter": "python",
   "pygments_lexer": "ipython3",
   "version": "3.7.6"
  }
 },
 "nbformat": 4,
 "nbformat_minor": 4
}
